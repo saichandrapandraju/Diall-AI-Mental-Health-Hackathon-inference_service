{
 "cells": [
  {
   "cell_type": "code",
   "execution_count": 1,
   "metadata": {},
   "outputs": [],
   "source": [
    "from transformers import pipeline\n",
    "import torch"
   ]
  },
  {
   "cell_type": "code",
   "execution_count": 2,
   "metadata": {},
   "outputs": [],
   "source": [
    "device = \"mps\" if torch.backends.mps.is_available() else \"cpu\""
   ]
  },
  {
   "cell_type": "code",
   "execution_count": 4,
   "metadata": {},
   "outputs": [],
   "source": [
    "summarizer = pipeline(\"summarization\", model=\"philschmid/bart-large-cnn-samsum\", device=device)"
   ]
  },
  {
   "cell_type": "code",
   "execution_count": 5,
   "metadata": {},
   "outputs": [
    {
     "data": {
      "text/plain": [
       "device(type='mps')"
      ]
     },
     "execution_count": 5,
     "metadata": {},
     "output_type": "execute_result"
    }
   ],
   "source": [
    "summarizer.device"
   ]
  },
  {
   "cell_type": "code",
   "execution_count": 8,
   "metadata": {},
   "outputs": [],
   "source": [
    "conversation = '''Jeff: Can I train a 🤗 Transformers model on Amazon SageMaker? \n",
    "Philipp: Sure you can use the new Hugging Face Deep Learning Container. \n",
    "Jeff: ok.\n",
    "Jeff: and how can I get started? \n",
    "Jeff: where can I find documentation? \n",
    "Philipp: ok, ok you can find everything here. https://huggingface.co/blog/the-partnership-amazon-sagemaker-and-hugging-face                                           \n",
    "'''"
   ]
  },
  {
   "cell_type": "code",
   "execution_count": 11,
   "metadata": {},
   "outputs": [
    {
     "data": {
      "text/plain": [
       "\"Jeff wants to train a Transformers model on Amazon SageMaker. He can use the new Hugging Face Deep Learning Container. Jeff can find the documentation on Huggingface's blog.    .   The blog is available at: https://huggingface.co/blog/the-partnership-amazon-sagemaker-and-hugling-face.\""
      ]
     },
     "execution_count": 11,
     "metadata": {},
     "output_type": "execute_result"
    }
   ],
   "source": [
    "summarizer(conversation)[0][\"summary_text\"]"
   ]
  },
  {
   "cell_type": "code",
   "execution_count": 14,
   "metadata": {},
   "outputs": [],
   "source": [
    "with open(\"./transcript_doc_patient/transcription.txt\") as f:\n",
    "    transcript = f.read().strip()"
   ]
  },
  {
   "cell_type": "code",
   "execution_count": 15,
   "metadata": {},
   "outputs": [
    {
     "name": "stdout",
     "output_type": "stream",
     "text": [
      "[Doctor]:  Hi, Mr. Jones. How are you?\n",
      "[Patient]:  How are you? I'm good, Dr. Svet, I'm ready to see you.\n",
      "[Doctor]:  Thanks to see you again. What brings you back?\n",
      "[Patient]:  Uh, well my back's been hurting again.\n",
      "[Doctor]:  I've seen you a number of times for this haven't I?\n",
      "[Patient]:  Well, ever since I got hurt on the job three years ago, it's something that just keeps coming back. It'll be fine for a while, and then I'll end down, or I'll move in a weird way, and then, boom, it'll just go out again.\n",
      "[Doctor]:  And unfortunately that can happen. And I do have quite a few patients who get reoccurring episodes of back pain. Have you been keeping up with the therapy that we had you on before?\n",
      "[Patient]:  which the pills.\n",
      "[Doctor]:  Actually, I was talking about the physical therapy that we had you doing. The pills were only meant for a short term because they don't actually prevent the back pain from coming back.\n",
      "[Patient]:  So yeah, once my back started feeling better, I was happy not to go to the therapist anymore.\n",
      "[Doctor]:  Why was that?\n",
      "[Patient]:  was starting to become kind of a hassle, you know, with my work schedule and the cost was an issue, but I was able to get back to work so, and I could use the money.\n",
      "[Doctor]:  Do you think the physical therapy was helping? Yeah, it would be smart.\n",
      "[Patient]:  you\n",
      "[Doctor]:  First, I see physical therapy is a bit slower than medications, but the point is to build up the core muscles in your back and your abdomen. Physical therapy is also less invasive than medications, so that's why we had you doing the therapy. But you mentioned that cost was getting to be a real issue for you. Can you tell me more about that?\n",
      "[Patient]:  Well, the insurance I had only covered a certain number of sessions, and then they moved my therapy office because they were trying to work out my schedule at work, but that was really far away, and then I had to do with parking, and it just started to get really expensive.\n",
      "[Doctor]:  God it and I understand. So for now I'd like you to try using a heating pad for your back pain. So that should help in the short term. Our goal is to get your back pain under better control without creating additional problems for you like cost. Let's talk about some different options and the pros and cons of each. So the physical therapy is actually really good for your back pain, but there are other things we can be doing to help.\n",
      "[Patient]:  Yes, I definitely don't need to lose any more time at work and just lie around a house all day.\n",
      "[Doctor]:  Okay, well there are some alternative therapies like yoga or Tai Chi classes or meditation therapies that might be able to help. And they might also be closer to you and be less expensive. Would that be something you'd be interested in?\n",
      "[Patient]:  sure that'd be great.\n",
      "[Doctor]:  Let's talk about some of the other costs of your care. In the past, we had you on some tram at all because the physical therapy alone wasn't working.\n",
      "[Patient]:  Yeah, that medicine was working really well, but again the cost of it got really expensive.\n",
      "[Doctor]:  Yeah, yeah. So that is something in the future we could order, something like a generic medication. And then there are also resources for people to look up the cheapest cost of their medications. But for now, I'd like to stick with the non-prescription medications. And if we can have you go to yoga or Tai Chi classes, like I mentioned, that could alleviate the need for ordering prescriptions.\n",
      "[Patient]:  Okay, yeah, that sounds good. Okay.\n",
      "[Doctor]:  Great, great. Are there any other costs that are a problem for you and your care?\n",
      "[Patient]:  Well my insurance isn't going down, but that seems to be the case for everybody that I talk to, but I should be able to make it work. Yeah.\n",
      "[Doctor]:  And fortunately that is an issue for a lot of people, but I would encourage you during open season to look at your different insurance options to see which plan is more cost effective for you.\n",
      "[Patient]:  Okay. Yeah, that sounds great. Great. Well, I appreciate you talking to me today.\n",
      "[Doctor]:  Yeah, I'm glad you were able to come in. What I'll do is I'll have my office team research, the different things that you and I talked about today. And then let's set a time, early next week, say Tuesday, where we can talk over the phone about what we were able to come up with for you and see if those would work for you. Okay, great. Great.\n"
     ]
    }
   ],
   "source": [
    "print(transcript)"
   ]
  },
  {
   "cell_type": "code",
   "execution_count": 16,
   "metadata": {},
   "outputs": [
    {
     "name": "stderr",
     "output_type": "stream",
     "text": [
      "Token indices sequence length is longer than the specified maximum sequence length for this model (1088 > 1024). Running this sequence through the model will result in indexing errors\n"
     ]
    },
    {
     "data": {
      "text/plain": [
       "'Patient has been having back pain since he got hurt on the job three years ago. He used to go to a physical therapy, but the therapy was too expensive for him. He will try alternative therapies like yoga or Tai Chi classes or meditation therapies, which might be less expensive.'"
      ]
     },
     "execution_count": 16,
     "metadata": {},
     "output_type": "execute_result"
    }
   ],
   "source": [
    "summarizer(transcript)[0][\"summary_text\"]"
   ]
  },
  {
   "cell_type": "code",
   "execution_count": null,
   "metadata": {},
   "outputs": [],
   "source": []
  }
 ],
 "metadata": {
  "kernelspec": {
   "display_name": "transcribe",
   "language": "python",
   "name": "python3"
  },
  "language_info": {
   "codemirror_mode": {
    "name": "ipython",
    "version": 3
   },
   "file_extension": ".py",
   "mimetype": "text/x-python",
   "name": "python",
   "nbconvert_exporter": "python",
   "pygments_lexer": "ipython3",
   "version": "3.10.13"
  }
 },
 "nbformat": 4,
 "nbformat_minor": 2
}
